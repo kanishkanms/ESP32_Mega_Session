{
  "nbformat": 4,
  "nbformat_minor": 0,
  "metadata": {
    "colab": {
      "name": "gesture-train.ipynb",
      "provenance": []
    },
    "kernelspec": {
      "name": "python3",
      "display_name": "Python 3",
      "language": "python"
    }
  },
  "cells": [
    {
      "cell_type": "code",
      "execution_count": null,
      "metadata": {},
      "outputs": [],
      "source": [
        "import numpy as np\n",
        "from glob import glob       # The glob module finds all the pathnames matching a specified pattern according to the rules\n",
        "from os.path import basename        # os.path.basename() method in Python is used to get the base name in specified path\n",
        "\n",
        "def load_features(folder):\n",
        "    dataset = None\n",
        "    classmap = {}\n",
        "    for class_idx, filename in enumerate(glob('%s/*.csv' % folder)):\n",
        "        class_name = basename(filename)[:-4]        # to remove '.csv' from class name\n",
        "        classmap[class_idx] = class_name            # set key value pairs\n",
        "        samples = np.loadtxt(filename, dtype=float, delimiter=',')\n",
        "        labels = np.ones((len(samples), 1)) * class_idx\n",
        "        samples = np.hstack((samples, labels))      # hstack Stack arrays in sequence horizontally (column wise).\n",
        "        dataset = samples if dataset is None else np.vstack((dataset, samples))\n",
        "        # vstack Stack arrays in sequence vertically (row wise).\n",
        "    return dataset, classmap"
      ]
    },
    {
      "cell_type": "code",
      "metadata": {
        "id": "tPBluvfPjV3G"
      },
      "source": [
        "# Random Forest Classifier model\n",
        "from sklearn.ensemble import RandomForestClassifier\n",
        "\n",
        "def get_classifier(features):\n",
        "    X, y = features[:, :-1], features[:, -1]\n",
        "    return RandomForestClassifier(100, max_depth=20).fit(X, y)"
      ],
      "execution_count": null,
      "outputs": []
    },
    {
      "cell_type": "code",
      "metadata": {
        "colab": {
          "base_uri": "https://localhost:8080/"
        },
        "id": "kD81PWYbja2i",
        "outputId": "562cfc61-25c8-4dec-a0f7-59f5cfb8d771"
      },
      "source": [
        "pip install micromlgen"
      ],
      "execution_count": null,
      "outputs": []
    },
    {
      "source": [
        "The micromlgen package (the package that can port Machine learning classifiers to plain C) supports the following classes:\n",
        "\n",
        "Decision Tree\n",
        "\n",
        "Random Forest)\n",
        "\n",
        "XGBoost\n",
        "\n",
        "Gaussian NB\n",
        "\n",
        "Support Vector Machines\n",
        "\n",
        "Relevance Vector Machines\n",
        "\n",
        "SEFR"
      ],
      "cell_type": "markdown",
      "metadata": {}
    },
    {
      "cell_type": "code",
      "metadata": {
        "id": "xgT95j_ijgK4",
        "colab": {
          "base_uri": "https://localhost:8080/",
          "height": 488
        },
        "outputId": "243be645-fde7-45ed-c10c-891dfdfafe11"
      },
      "source": [
        "from micromlgen import port\n",
        "\n",
        "if __name__ == '__main__':\n",
        "    features, classmap = load_features('dataset/')          # Make sure all .csv files to train are inside a folder called dataset\n",
        "    classifier = get_classifier(features)                   # train and fit the model\n",
        "    c_code = port(classifier, classmap=classmap)            # convert the trained model to c code\n",
        "    print(c_code)\n"
      ],
      "execution_count": null,
      "outputs": []
    },
    {
      "cell_type": "code",
      "metadata": {
        "id": "FHTEp5F8e2V4"
      },
      "source": [],
      "execution_count": null,
      "outputs": []
    }
  ]
}